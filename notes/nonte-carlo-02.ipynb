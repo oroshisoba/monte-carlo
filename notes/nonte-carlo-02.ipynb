{
 "cells": [
  {
   "cell_type": "code",
   "execution_count": 1,
   "metadata": {},
   "outputs": [],
   "source": [
    "import random\n",
    "import numpy as np\n",
    "import matplotlib.pyplot as plt"
   ]
  },
  {
   "cell_type": "code",
   "execution_count": 4,
   "metadata": {},
   "outputs": [
    {
     "name": "stdout",
     "output_type": "stream",
     "text": [
      "1パーセンタイルの値は: -45.52453600291699\n"
     ]
    }
   ],
   "source": [
    "# 標準正規分布から10,000個の値を生成し、20を掛ける\n",
    "values = np.random.randn(10000) * 20\n",
    "\n",
    "# パーセンタイル値 (x) を定義\n",
    "x = 1  # xパーセンタイル\n",
    "\n",
    "# xパーセンタイル値を計算\n",
    "percentile_value = np.percentile(values, x)\n",
    "mean_value = np.mean(values)\n",
    "std_deviation = np.std(values)\n",
    "print(f\"平均値は: {mean_value}, 標準偏差は: {std_deviation}\")\n",
    "print(f\"{x}パーセンタイルの値は: {percentile_value}\")"
   ]
  }
 ],
 "metadata": {
  "kernelspec": {
   "display_name": ".venv",
   "language": "python",
   "name": "python3"
  },
  "language_info": {
   "codemirror_mode": {
    "name": "ipython",
    "version": 3
   },
   "file_extension": ".py",
   "mimetype": "text/x-python",
   "name": "python",
   "nbconvert_exporter": "python",
   "pygments_lexer": "ipython3",
   "version": "3.12.4"
  }
 },
 "nbformat": 4,
 "nbformat_minor": 2
}
